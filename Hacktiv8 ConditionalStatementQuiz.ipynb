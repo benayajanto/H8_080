{
 "cells": [
  {
   "cell_type": "code",
   "execution_count": 1,
   "id": "1bb34299",
   "metadata": {},
   "outputs": [
    {
     "ename": "SyntaxError",
     "evalue": "invalid syntax (3727954288.py, line 1)",
     "output_type": "error",
     "traceback": [
      "\u001b[0;36m  Input \u001b[0;32mIn [1]\u001b[0;36m\u001b[0m\n\u001b[0;31m    Buatlah sebuah program untuk menentukan apakah sebuah bilangan termasuk kedalam bilangan\u001b[0m\n\u001b[0m            ^\u001b[0m\n\u001b[0;31mSyntaxError\u001b[0m\u001b[0;31m:\u001b[0m invalid syntax\n"
     ]
    }
   ],
   "source": [
    "Buatlah sebuah program untuk menentukan apakah sebuah bilangan termasuk kedalam bilangan\n",
    "ganjil atau bilangan genap. Sebagai tambahan, apabila ditemukan angka 0 berikan keterangan\n",
    "bahwa 0 bukanlah bilangan ganjil atau genap, serta apabila inputan yang dimasukan kurang dari 0\n",
    "(bilangan negative), maka berikan output untuk memberi tau kalua inputan yang benar adalah\n",
    "bilangan bulat positif."
   ]
  },
  {
   "cell_type": "code",
   "execution_count": 3,
   "id": "402ceed3",
   "metadata": {},
   "outputs": [
    {
     "name": "stdout",
     "output_type": "stream",
     "text": [
      "Masukan angka:10\n",
      "Bilangan 10 tergolong bilangan GENAP\n"
     ]
    }
   ],
   "source": [
    "angka=int(input('Masukan angka:'))\n",
    "\n",
    "if angka==0:\n",
    "    print(angka, 'bukanlah bilangan ganjil atau genap')\n",
    "\n",
    "elif angka<0:\n",
    "    print(angka, 'adalah bilangan negative')\n",
    "\n",
    "elif angka%2==0:\n",
    "    print('Bilangan', angka, 'tergolong bilangan GENAP')\n",
    "    \n",
    "else:\n",
    "    print('Bilangan', angka, 'tergolong bilangan GANJIL')\n",
    "\n",
    "    "
   ]
  },
  {
   "cell_type": "code",
   "execution_count": null,
   "id": "74930e3a",
   "metadata": {},
   "outputs": [],
   "source": [
    "Buatlah sebuah program menu untuk menghitung beberapa rumus bangun ruang.\n",
    "1. Ketika memasukan angka akan menghitung rumus segitiga\n",
    "2. Ketika memasukan angka 2, akan menghitung rumus persegi\n",
    "3. Ketika memasukan angka 3 atau karakter lain, akan mengeluarkan output ‘Masukan Inputan\n",
    "Yang Benar’"
   ]
  },
  {
   "cell_type": "code",
   "execution_count": 9,
   "id": "12da488d",
   "metadata": {},
   "outputs": [
    {
     "name": "stdout",
     "output_type": "stream",
     "text": [
      "MENU MENGHITUNG RUMUS LUAS SEGITIGA DAN PERSEGI\n",
      "Masukan angka 1 untuk menghitung luas segitiga\n",
      "Masukan angka 2 untuk menghitung luas persegi\n",
      "Masukan angka:2\n",
      "Pilihan menu yang diinginkan: 2\n",
      "Masukan Alas Persegi:3\n",
      "Masukan Tinggi Persegi:3\n",
      "Luas persegi tersebut adalah: 9\n"
     ]
    }
   ],
   "source": [
    "print('MENU MENGHITUNG RUMUS LUAS SEGITIGA DAN PERSEGI')\n",
    "print('Masukan angka 1 untuk menghitung luas segitiga')\n",
    "print('Masukan angka 2 untuk menghitung luas persegi')\n",
    "\n",
    "angka=int(input('Masukan angka:'))\n",
    "print('Pilihan menu yang diinginkan:', angka)\n",
    "\n",
    "if angka==1:\n",
    "    alassegitiga=int(input('Masukan Alas Segitiga:'))\n",
    "    tinggisegitiga=int(input('Masukan Tinggi Segitiga:'))\n",
    "    print('Luas segitiga tersebut adalah:', (alassegitiga*tinggisegitiga)/2)\n",
    "elif angka==2:\n",
    "    alaspersegi=int(input('Masukan Alas Persegi:'))\n",
    "    tinggipersegi=int(input('Masukan Tinggi Persegi:'))\n",
    "    print('Luas persegi tersebut adalah:', alaspersegi*tinggipersegi)\n",
    "else:\n",
    "    print('Masukan inputan yang benar')\n",
    "    \n",
    "    "
   ]
  },
  {
   "cell_type": "code",
   "execution_count": 8,
   "id": "8dd1a104",
   "metadata": {},
   "outputs": [
    {
     "ename": "SyntaxError",
     "evalue": "invalid syntax (1146449153.py, line 1)",
     "output_type": "error",
     "traceback": [
      "\u001b[0;36m  Input \u001b[0;32mIn [8]\u001b[0;36m\u001b[0m\n\u001b[0;31m    Buatlah sebuah program untuk membuat detail tahun, bulan, minggu hingga hari dari total jumlah\u001b[0m\n\u001b[0m            ^\u001b[0m\n\u001b[0;31mSyntaxError\u001b[0m\u001b[0;31m:\u001b[0m invalid syntax\n"
     ]
    }
   ],
   "source": [
    "Buatlah sebuah program untuk membuat detail tahun, bulan, minggu hingga hari dari total jumlah\n",
    "hari yang dimasukan. Catatnnya adalah 1 Tahun = 360 Hari; 1 Bulan = 30 Hari; 1 Minggu = 7 Hari.\n",
    "Berikut ini output yang diharapkan."
   ]
  },
  {
   "cell_type": "code",
   "execution_count": null,
   "id": "5c1defea",
   "metadata": {},
   "outputs": [],
   "source": []
  },
  {
   "cell_type": "code",
   "execution_count": null,
   "id": "346c53e7",
   "metadata": {},
   "outputs": [],
   "source": []
  }
 ],
 "metadata": {
  "kernelspec": {
   "display_name": "Python 3 (ipykernel)",
   "language": "python",
   "name": "python3"
  },
  "language_info": {
   "codemirror_mode": {
    "name": "ipython",
    "version": 3
   },
   "file_extension": ".py",
   "mimetype": "text/x-python",
   "name": "python",
   "nbconvert_exporter": "python",
   "pygments_lexer": "ipython3",
   "version": "3.9.12"
  }
 },
 "nbformat": 4,
 "nbformat_minor": 5
}
