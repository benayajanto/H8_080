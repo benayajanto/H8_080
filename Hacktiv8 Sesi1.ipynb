{
 "cells": [
  {
   "cell_type": "code",
   "execution_count": 1,
   "id": "a165a9f8",
   "metadata": {},
   "outputs": [
    {
     "name": "stdout",
     "output_type": "stream",
     "text": [
      "4.2\n",
      "<class 'float'>\n"
     ]
    }
   ],
   "source": [
    "print (4.2)\n",
    "print (type(4.2))"
   ]
  },
  {
   "cell_type": "code",
   "execution_count": 2,
   "id": "92909635",
   "metadata": {},
   "outputs": [
    {
     "name": "stdout",
     "output_type": "stream",
     "text": [
      "hacktiv8\n",
      "<class 'str'>\n"
     ]
    }
   ],
   "source": [
    "print ('hacktiv8')\n",
    "print (type('hacktiv8'))"
   ]
  },
  {
   "cell_type": "code",
   "execution_count": 3,
   "id": "020c412f",
   "metadata": {},
   "outputs": [
    {
     "name": "stdout",
     "output_type": "stream",
     "text": [
      "124\n"
     ]
    }
   ],
   "source": [
    "print (123+1)"
   ]
  },
  {
   "cell_type": "code",
   "execution_count": 1,
   "id": "71772db1",
   "metadata": {},
   "outputs": [
    {
     "name": "stdout",
     "output_type": "stream",
     "text": [
      "16\n",
      "sixteen\n",
      "sixteen 16 True\n"
     ]
    }
   ],
   "source": [
    "number=16\n",
    "print (number)\n",
    "\n",
    "name='sixteen'\n",
    "print (name)\n",
    "\n",
    "a_Ge=True\n",
    "\n",
    "print(name, number, a_Ge)"
   ]
  },
  {
   "cell_type": "code",
   "execution_count": 2,
   "id": "eb30d13e",
   "metadata": {},
   "outputs": [
    {
     "name": "stdout",
     "output_type": "stream",
     "text": [
      "5\n",
      "-1\n",
      "6\n",
      "0.6666666666666666\n",
      "2\n",
      "8\n"
     ]
    }
   ],
   "source": [
    "a=2\n",
    "b=3\n",
    "\n",
    "print (a+b)\n",
    "print (a-b)\n",
    "print (a*b)\n",
    "print (a/b)\n",
    "print (a%b)\n",
    "print (a**b)"
   ]
  },
  {
   "cell_type": "code",
   "execution_count": 3,
   "id": "f3c974ad",
   "metadata": {},
   "outputs": [
    {
     "name": "stdout",
     "output_type": "stream",
     "text": [
      "False\n",
      "True\n",
      "False\n",
      "True\n"
     ]
    }
   ],
   "source": [
    "print (a==b)\n",
    "print (a!=b)\n",
    "print (a>=b)\n",
    "print (a<=b)"
   ]
  },
  {
   "cell_type": "code",
   "execution_count": 4,
   "id": "beb2b18a",
   "metadata": {},
   "outputs": [
    {
     "name": "stdout",
     "output_type": "stream",
     "text": [
      "benaya\n"
     ]
    }
   ],
   "source": [
    "a='be'\n",
    "b='na'\n",
    "c='ya'\n",
    "print (a+b+c)"
   ]
  },
  {
   "cell_type": "code",
   "execution_count": 5,
   "id": "f6a3b2bc",
   "metadata": {},
   "outputs": [
    {
     "name": "stdout",
     "output_type": "stream",
     "text": [
      "BenaYa\n",
      "BEnaya\n",
      "BENAYA\n",
      "True\n",
      "False\n"
     ]
    }
   ],
   "source": [
    "print (a.capitalize()+b+c.capitalize())\n",
    "print (a.swapcase()+b+c)\n",
    "print (a.upper()+b.upper()+c.upper())\n",
    "\n",
    "print (a in 'because')\n",
    "print (b in 'because')"
   ]
  },
  {
   "cell_type": "code",
   "execution_count": 6,
   "id": "f55bf679",
   "metadata": {},
   "outputs": [
    {
     "name": "stdout",
     "output_type": "stream",
     "text": [
      "['foo', 'bar', 'baz', 'boo']\n"
     ]
    }
   ],
   "source": [
    "a = ['foo', 'bar', 'baz', 'boo']\n",
    "print (a)"
   ]
  },
  {
   "cell_type": "code",
   "execution_count": 7,
   "id": "472724d1",
   "metadata": {},
   "outputs": [
    {
     "name": "stdout",
     "output_type": "stream",
     "text": [
      "foo\n",
      "boo\n",
      "['bar', 'baz']\n"
     ]
    }
   ],
   "source": [
    "print (a[0])\n",
    "print (a[-1])\n",
    "print (a[1:3])"
   ]
  },
  {
   "cell_type": "code",
   "execution_count": 8,
   "id": "c0be60d4",
   "metadata": {},
   "outputs": [
    {
     "name": "stdout",
     "output_type": "stream",
     "text": [
      "['foo', 'bar', 'baz', 'boo', 'foo', 'bar', 'baz', 'boo']\n",
      "4\n",
      "bar\n",
      "foo\n"
     ]
    }
   ],
   "source": [
    "print(a*2)\n",
    "print(len(a))\n",
    "print(min(a))\n",
    "print(max(a))"
   ]
  },
  {
   "cell_type": "code",
   "execution_count": 9,
   "id": "2fd5c015",
   "metadata": {},
   "outputs": [
    {
     "name": "stdout",
     "output_type": "stream",
     "text": [
      "['foo', 'bar', 'baz', 'boo', 'gnault', 'garply']\n"
     ]
    }
   ],
   "source": [
    "print (a + ['gnault', 'garply'])"
   ]
  },
  {
   "cell_type": "code",
   "execution_count": 10,
   "id": "458db9ce",
   "metadata": {},
   "outputs": [
    {
     "name": "stdout",
     "output_type": "stream",
     "text": [
      "['foo', 'bar', 1, 'boo', 'gnault', 2]\n",
      "['bar', 1, 'boo', 'gnault', 2]\n",
      "['bar', 2, 4, 6, 8, 2]\n"
     ]
    }
   ],
   "source": [
    "a = ['foo', 'bar', 'baz', 'boo', 'gnault', 'garply']\n",
    "a[2]=1\n",
    "a[5]=2\n",
    "print (a)\n",
    "\n",
    "del a[0]\n",
    "print(a)\n",
    "\n",
    "a[1:4]=[2,4,6,8]\n",
    "print (a)"
   ]
  },
  {
   "cell_type": "code",
   "execution_count": 13,
   "id": "d918f0a7",
   "metadata": {},
   "outputs": [
    {
     "name": "stdout",
     "output_type": "stream",
     "text": [
      "(1, 2, 3, 4, 5)\n",
      "3\n",
      "4\n"
     ]
    }
   ],
   "source": [
    "#tuples#\n",
    "x=(1,2,3,4,5)\n",
    "print(x)\n",
    "\n",
    "print (x[2])\n",
    "print (x[-2])"
   ]
  },
  {
   "cell_type": "code",
   "execution_count": 12,
   "id": "151e1772",
   "metadata": {},
   "outputs": [
    {
     "name": "stdout",
     "output_type": "stream",
     "text": [
      "2\n"
     ]
    }
   ],
   "source": [
    "(one,two,three,four,five)=(1,2,3,4,5)\n",
    "print (two)"
   ]
  },
  {
   "cell_type": "code",
   "execution_count": null,
   "id": "872dd6c2",
   "metadata": {},
   "outputs": [],
   "source": []
  }
 ],
 "metadata": {
  "kernelspec": {
   "display_name": "Python 3 (ipykernel)",
   "language": "python",
   "name": "python3"
  },
  "language_info": {
   "codemirror_mode": {
    "name": "ipython",
    "version": 3
   },
   "file_extension": ".py",
   "mimetype": "text/x-python",
   "name": "python",
   "nbconvert_exporter": "python",
   "pygments_lexer": "ipython3",
   "version": "3.9.12"
  }
 },
 "nbformat": 4,
 "nbformat_minor": 5
}
