{
 "cells": [
  {
   "cell_type": "code",
   "execution_count": 27,
   "id": "50b30f5d",
   "metadata": {},
   "outputs": [
    {
     "name": "stdout",
     "output_type": "stream",
     "text": [
      "Masukan Jumlah Angka:6\n",
      "Masukan Angka: 1\n",
      "Masukan Angka: 2\n",
      "Masukan Angka: 3\n",
      "Masukan Angka: 4\n",
      "Masukan Angka: 5\n",
      "Masukan Angka: 6\n",
      "[5, 10, 15, 20, 25, 30]\n"
     ]
    }
   ],
   "source": [
    "#Soal 1\n",
    "list=[]\n",
    "n=int(input('Masukan Jumlah Angka:'))\n",
    "\n",
    "for i in range (0,n):\n",
    "    angka=int(input('Masukan Angka: '))\n",
    "    \n",
    "    list.append(angka*5)\n",
    "    \n",
    "print(list)"
   ]
  },
  {
   "cell_type": "code",
   "execution_count": 106,
   "id": "b5333c5d",
   "metadata": {},
   "outputs": [
    {
     "name": "stdout",
     "output_type": "stream",
     "text": [
      "Masukan Banyaknya Data:5\n",
      "Masukan Data: 1\n",
      "Masukan Data: 2\n",
      "Masukan Data: 3\n",
      "Masukan Data: 4\n",
      "Masukan Data: 5\n",
      "[1, 2, 3, 4, 5]\n",
      "Rata-ratanya adalah:  3.0\n",
      "Variansinya adalah:  2.5\n",
      "Standar Deviasinya adalah:  1.5811388300841898\n"
     ]
    }
   ],
   "source": [
    "#Soal 2\n",
    "list=[]\n",
    "n=int(input('Masukan Banyaknya Data:'))\n",
    "\n",
    "for i in range (0,n):\n",
    "    angka=int(input('Masukan Data: '))\n",
    "    list.append(angka)\n",
    "    \n",
    "print(list)\n",
    "\n",
    "def avg(list):\n",
    "    average=sum(list)/len(list)\n",
    "    return average\n",
    "\n",
    "average=avg(list)\n",
    "\n",
    "print('Rata-ratanya adalah: ', average)\n",
    "\n",
    "variance=sum((x-average)**2 for x in list)/(len(list)-1)\n",
    "\n",
    "print('Variansinya adalah: ', variance)\n",
    "\n",
    "import math\n",
    "std=math.sqrt(variance)\n",
    "\n",
    "print('Standar Deviasinya adalah: ', std)\n",
    "\n",
    "\n",
    "\n",
    "\n",
    "\n"
   ]
  },
  {
   "cell_type": "code",
   "execution_count": 34,
   "id": "a384d0bf",
   "metadata": {},
   "outputs": [
    {
     "name": "stdout",
     "output_type": "stream",
     "text": [
      "Masukan Jumlah Angka:1\n",
      "Masukan Angka: 2\n",
      "[2]\n"
     ]
    }
   ],
   "source": [
    "#Soal 3\n",
    "list=[]\n"
   ]
  },
  {
   "cell_type": "code",
   "execution_count": 65,
   "id": "de7e7e3f",
   "metadata": {},
   "outputs": [
    {
     "name": "stdout",
     "output_type": "stream",
     "text": [
      "Masukan Sebuah Kalimat: BenAyA\n",
      "Kalimat original:  BenAyA\n",
      "Banyaknya jumlah huruf kapital dalam kalimat adalah: 3\n",
      "Banyaknya jumlah huruf non-kapital dalam kalimat adalah:  3\n"
     ]
    }
   ],
   "source": [
    "#Soal 5\n",
    "string=input('Masukan Sebuah Kalimat: ')\n",
    "print('Kalimat original: ',string)\n",
    "count1=0\n",
    "count2=0\n",
    "\n",
    "for i in string:\n",
    "    if i.isupper():\n",
    "            count1+=1\n",
    "    elif i.islower():\n",
    "            count2+=1\n",
    "\n",
    "print('Banyaknya jumlah huruf kapital dalam kalimat adalah:', count1)\n",
    "print('Banyaknya jumlah huruf non-kapital dalam kalimat adalah: ', count2)\n",
    "    "
   ]
  },
  {
   "cell_type": "code",
   "execution_count": null,
   "id": "8df03dcc",
   "metadata": {},
   "outputs": [],
   "source": []
  }
 ],
 "metadata": {
  "kernelspec": {
   "display_name": "Python 3 (ipykernel)",
   "language": "python",
   "name": "python3"
  },
  "language_info": {
   "codemirror_mode": {
    "name": "ipython",
    "version": 3
   },
   "file_extension": ".py",
   "mimetype": "text/x-python",
   "name": "python",
   "nbconvert_exporter": "python",
   "pygments_lexer": "ipython3",
   "version": "3.9.12"
  }
 },
 "nbformat": 4,
 "nbformat_minor": 5
}
