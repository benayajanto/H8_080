{
 "cells": [
  {
   "cell_type": "code",
   "execution_count": 2,
   "id": "136f7f4f",
   "metadata": {},
   "outputs": [
    {
     "name": "stdout",
     "output_type": "stream",
     "text": [
      "x less than y\n"
     ]
    }
   ],
   "source": [
    "x=1\n",
    "y=2\n",
    "\n",
    "if x<y:\n",
    "    print('x less than y')\n",
    "if x>y:\n",
    "    print('x more than y')\n",
    "if x==y:\n",
    "    print('x is equal to y')\n"
   ]
  },
  {
   "cell_type": "code",
   "execution_count": 3,
   "id": "aaed7ef8",
   "metadata": {},
   "outputs": [
    {
     "name": "stdout",
     "output_type": "stream",
     "text": [
      "yes\n"
     ]
    }
   ],
   "source": [
    "if 'be' in 'because':\n",
    "    print('yes')"
   ]
  },
  {
   "cell_type": "code",
   "execution_count": 5,
   "id": "4fa96c43",
   "metadata": {},
   "outputs": [
    {
     "name": "stdout",
     "output_type": "stream",
     "text": [
      "foo is present\n",
      "Done\n"
     ]
    }
   ],
   "source": [
    "if 'foo' in ['foo', 'bar', 'baz']:\n",
    "    print('foo is present')\n",
    "print('Done')"
   ]
  },
  {
   "cell_type": "code",
   "execution_count": 6,
   "id": "a238f943",
   "metadata": {},
   "outputs": [
    {
     "name": "stdout",
     "output_type": "stream",
     "text": [
      "true\n",
      "next\n",
      "done\n"
     ]
    }
   ],
   "source": [
    "if 1<2:\n",
    "    print('true')\n",
    "print('next')\n",
    "if 2<1:\n",
    "    print('false')\n",
    "print('done')"
   ]
  },
  {
   "cell_type": "code",
   "execution_count": 9,
   "id": "11e17157",
   "metadata": {},
   "outputs": [
    {
     "name": "stdout",
     "output_type": "stream",
     "text": [
      "bisa beli majalah\n"
     ]
    }
   ],
   "source": [
    "hargabuku=50\n",
    "hargamajalah=20\n",
    "uang=40\n",
    "\n",
    "if hargabuku<uang:\n",
    "    print('bisa beli buku')\n",
    "elif hargamajalah<uang:\n",
    "    print('bisa beli majalah')\n",
    "else:\n",
    "    print('tidak bisa beli')"
   ]
  },
  {
   "cell_type": "code",
   "execution_count": 13,
   "id": "389ce348",
   "metadata": {},
   "outputs": [
    {
     "name": "stdout",
     "output_type": "stream",
     "text": [
      "hi benaya\n",
      "hey benaya\n",
      "hello benaya\n"
     ]
    }
   ],
   "source": [
    "x='benaya'\n",
    "if x=='ben':\n",
    "    print('hi ben')\n",
    "elif x=='benaya':\n",
    "    print('hi benaya')\n",
    "elif 'ben' in 'benaya':\n",
    "    print('hy benaya')\n",
    "\n",
    "if 'ben' in 'benaya':\n",
    "    print('hey benaya')\n",
    "if 'm' in 'benaya':\n",
    "    print('hai benaya')\n",
    "elif 'a' in 'benaya':\n",
    "    print('hello benaya')\n",
    "else:\n",
    "    print('bye')"
   ]
  },
  {
   "cell_type": "code",
   "execution_count": 14,
   "id": "0754c2c8",
   "metadata": {},
   "outputs": [
    {
     "name": "stdout",
     "output_type": "stream",
     "text": [
      "1\n",
      "2\n"
     ]
    }
   ],
   "source": [
    "if 'b' in 'ben': print('1'); print ('2')"
   ]
  },
  {
   "cell_type": "code",
   "execution_count": 16,
   "id": "85c5f0c6",
   "metadata": {},
   "outputs": [
    {
     "name": "stdout",
     "output_type": "stream",
     "text": [
      "x is multiple of 3\n",
      "possible\n"
     ]
    }
   ],
   "source": [
    "x=9\n",
    "if x/3: print('x is multiple of 3'); print('possible')\n",
    "elif x/2: print('x is multiple of 2'); print('possible')\n",
    "else: print('x is not divisible'); print('not')"
   ]
  },
  {
   "cell_type": "code",
   "execution_count": 19,
   "id": "c5f23e83",
   "metadata": {},
   "outputs": [
    {
     "name": "stdout",
     "output_type": "stream",
     "text": [
      "x is 9\n",
      "x is more than 8\n"
     ]
    }
   ],
   "source": [
    "if x==9:\n",
    "    print('x is 9')\n",
    "if x<8:\n",
    "    print('x is less than 8')\n",
    "elif x==8:\n",
    "    print('x is equal to 8')\n",
    "else:\n",
    "    print('x is more than 8')\n"
   ]
  },
  {
   "cell_type": "code",
   "execution_count": 20,
   "id": "c8e59b08",
   "metadata": {},
   "outputs": [
    {
     "name": "stdout",
     "output_type": "stream",
     "text": [
      "lets go to the cafe\n"
     ]
    }
   ],
   "source": [
    "raining=True\n",
    "print('lets go to the', 'beach' if not raining else 'cafe')"
   ]
  },
  {
   "cell_type": "code",
   "execution_count": 21,
   "id": "afc5f567",
   "metadata": {},
   "outputs": [
    {
     "data": {
      "text/plain": [
       "'allowed'"
      ]
     },
     "execution_count": 21,
     "metadata": {},
     "output_type": "execute_result"
    }
   ],
   "source": [
    "age=24\n",
    "s='no drinking' if age <21 else 'allowed'\n",
    "s"
   ]
  },
  {
   "cell_type": "code",
   "execution_count": 22,
   "id": "eda6286b",
   "metadata": {},
   "outputs": [
    {
     "data": {
      "text/plain": [
       "'yes'"
      ]
     },
     "execution_count": 22,
     "metadata": {},
     "output_type": "execute_result"
    }
   ],
   "source": [
    "'yes' if (1 in [1,2,3]) else 'no'"
   ]
  },
  {
   "cell_type": "code",
   "execution_count": 24,
   "id": "4ddf1ee0",
   "metadata": {},
   "outputs": [
    {
     "data": {
      "text/plain": [
       "1"
      ]
     },
     "execution_count": 24,
     "metadata": {},
     "output_type": "execute_result"
    }
   ],
   "source": [
    "a=1\n",
    "b=2\n",
    "\n",
    "if a<b:\n",
    "    m=a\n",
    "else:\n",
    "    m=b\n",
    "m"
   ]
  },
  {
   "cell_type": "code",
   "execution_count": 25,
   "id": "21884216",
   "metadata": {},
   "outputs": [
    {
     "name": "stdout",
     "output_type": "stream",
     "text": [
      "9\n",
      "8\n",
      "7\n",
      "6\n",
      "end\n"
     ]
    }
   ],
   "source": [
    "n=10\n",
    "while n>2:\n",
    "    n-=1\n",
    "    if n==5:\n",
    "        break\n",
    "    print(n)\n",
    "print('end')"
   ]
  },
  {
   "cell_type": "code",
   "execution_count": 26,
   "id": "414e25f7",
   "metadata": {},
   "outputs": [
    {
     "name": "stdout",
     "output_type": "stream",
     "text": [
      "9\n",
      "8\n",
      "7\n",
      "6\n",
      "4\n",
      "3\n",
      "2\n",
      "end\n"
     ]
    }
   ],
   "source": [
    "n=10\n",
    "while n>2:\n",
    "    n-=1\n",
    "    if n==5:\n",
    "        continue\n",
    "    print(n)\n",
    "print('end')"
   ]
  },
  {
   "cell_type": "code",
   "execution_count": 27,
   "id": "2366ac8d",
   "metadata": {},
   "outputs": [
    {
     "name": "stdout",
     "output_type": "stream",
     "text": [
      "9\n",
      "8\n",
      "7\n",
      "6\n",
      "5\n",
      "done\n"
     ]
    }
   ],
   "source": [
    "n=10\n",
    "while n>5:\n",
    "    n-=1\n",
    "    print(n)\n",
    "else:\n",
    "    print('done')"
   ]
  },
  {
   "cell_type": "code",
   "execution_count": 38,
   "id": "e5b5462e",
   "metadata": {},
   "outputs": [
    {
     "name": "stdout",
     "output_type": "stream",
     "text": [
      "11\n",
      "m\n",
      "male kid\n"
     ]
    }
   ],
   "source": [
    "age=int(input())\n",
    "gender=input()\n",
    "\n",
    "if age<12:\n",
    "    if gender=='m':\n",
    "        print('male kid')\n",
    "    else:\n",
    "        print('female kid')\n",
    "elif age<20:\n",
    "    if gender=='m':\n",
    "        print('male teen')\n",
    "    else:\n",
    "        print('female teen')\n",
    "else:\n",
    "    if gender=='m':\n",
    "        print('male adult')\n",
    "    else:\n",
    "        print('female adult')"
   ]
  },
  {
   "cell_type": "code",
   "execution_count": 42,
   "id": "c3d8700e",
   "metadata": {},
   "outputs": [
    {
     "name": "stdout",
     "output_type": "stream",
     "text": [
      "foo\n",
      "> baz\n",
      "> qux\n",
      "bar\n",
      "> baz\n",
      "> qux\n"
     ]
    }
   ],
   "source": [
    "a=['foo', 'bar']\n",
    "\n",
    "while len(a):\n",
    "    print(a.pop(0))\n",
    "    \n",
    "    b=['baz','qux']\n",
    "    \n",
    "    while len(b):\n",
    "        print('>', b.pop(0))"
   ]
  },
  {
   "cell_type": "code",
   "execution_count": 43,
   "id": "026e4018",
   "metadata": {},
   "outputs": [
    {
     "name": "stdout",
     "output_type": "stream",
     "text": [
      "foo\n",
      "bar\n",
      "baz\n"
     ]
    }
   ],
   "source": [
    "a=['foo','bar','baz']\n",
    "\n",
    "for i in a:\n",
    "    print(i)"
   ]
  },
  {
   "cell_type": "code",
   "execution_count": 45,
   "id": "07f7d3f7",
   "metadata": {},
   "outputs": [
    {
     "name": "stdout",
     "output_type": "stream",
     "text": [
      "foo\n",
      "bar\n",
      "baz\n"
     ]
    }
   ],
   "source": [
    "b={'foo':1, 'bar':2, 'baz':3}\n",
    "for x in b:\n",
    "    print(x)"
   ]
  },
  {
   "cell_type": "code",
   "execution_count": 47,
   "id": "e59c453c",
   "metadata": {},
   "outputs": [
    {
     "name": "stdout",
     "output_type": "stream",
     "text": [
      "1\n",
      "2\n",
      "3\n"
     ]
    }
   ],
   "source": [
    "for x in b.values():\n",
    "    print(x)"
   ]
  },
  {
   "cell_type": "code",
   "execution_count": 48,
   "id": "d3099755",
   "metadata": {},
   "outputs": [
    {
     "name": "stdout",
     "output_type": "stream",
     "text": [
      "0\n",
      "1\n",
      "2\n",
      "3\n",
      "4\n",
      "5\n",
      "6\n",
      "7\n",
      "8\n",
      "9\n"
     ]
    }
   ],
   "source": [
    "x=range(10)\n",
    "for a in x:\n",
    "    print(a)"
   ]
  },
  {
   "cell_type": "code",
   "execution_count": null,
   "id": "a9c96923",
   "metadata": {},
   "outputs": [],
   "source": []
  }
 ],
 "metadata": {
  "kernelspec": {
   "display_name": "Python 3 (ipykernel)",
   "language": "python",
   "name": "python3"
  },
  "language_info": {
   "codemirror_mode": {
    "name": "ipython",
    "version": 3
   },
   "file_extension": ".py",
   "mimetype": "text/x-python",
   "name": "python",
   "nbconvert_exporter": "python",
   "pygments_lexer": "ipython3",
   "version": "3.9.12"
  }
 },
 "nbformat": 4,
 "nbformat_minor": 5
}
