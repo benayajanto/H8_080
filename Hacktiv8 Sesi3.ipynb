{
 "cells": [
  {
   "cell_type": "code",
   "execution_count": 2,
   "id": "c160f728",
   "metadata": {},
   "outputs": [
    {
     "name": "stdout",
     "output_type": "stream",
     "text": [
      "20\n"
     ]
    }
   ],
   "source": [
    "def my_function(p,l):\n",
    "    \"Function untuk menghitung luas\"\n",
    "    print(p*l)\n",
    "\n",
    "my_function(5,4)\n"
   ]
  },
  {
   "cell_type": "code",
   "execution_count": 3,
   "id": "f2c2251c",
   "metadata": {},
   "outputs": [
    {
     "name": "stdout",
     "output_type": "stream",
     "text": [
      "Im first call to user defined function\n",
      "Again second call to the same function\n"
     ]
    }
   ],
   "source": [
    "def printme(str):\n",
    "    'This prints a passed string into this function'\n",
    "    print(str)\n",
    "    return;\n",
    "\n",
    "printme('Im first call to user defined function')\n",
    "printme('Again second call to the same function')"
   ]
  },
  {
   "cell_type": "code",
   "execution_count": 6,
   "id": "1bbb32a7",
   "metadata": {},
   "outputs": [
    {
     "name": "stdout",
     "output_type": "stream",
     "text": [
      "Values inside the function: [1, 2, 3, ['foo', 'bar', 'baz']]\n",
      "Values outside the function: [1, 2, 3, ['foo', 'bar', 'baz']]\n"
     ]
    }
   ],
   "source": [
    "mylist=[1,2,3]\n",
    "\n",
    "def changeme(mylist):\n",
    "    'Thos changes a passed list into this function'\n",
    "    mylist.append(['foo','bar','baz']);\n",
    "    print('Values inside the function:',mylist)\n",
    "    return\n",
    "\n",
    "changeme(mylist)\n",
    "print('Values outside the function:',mylist)"
   ]
  },
  {
   "cell_type": "code",
   "execution_count": 9,
   "id": "524cbdf1",
   "metadata": {},
   "outputs": [
    {
     "name": "stdout",
     "output_type": "stream",
     "text": [
      "Values inside the function: [1, 2, 3, 4]\n",
      "Values outside the function: ['a', 'b', 'c']\n"
     ]
    }
   ],
   "source": [
    "def changeme(mylist):\n",
    "    'This changes a passed list into this function'\n",
    "    mylist=[1,2,3,4];\n",
    "    print('Values inside the function:',mylist)\n",
    "    return\n",
    "\n",
    "mylist=['a','b','c']\n",
    "changeme(mylist)\n",
    "print('Values outside the function:',mylist)"
   ]
  },
  {
   "cell_type": "code",
   "execution_count": 12,
   "id": "f7b92495",
   "metadata": {},
   "outputs": [
    {
     "name": "stdout",
     "output_type": "stream",
     "text": [
      "Hello World\n"
     ]
    }
   ],
   "source": [
    "#REQUIRED ARGUMENT\n",
    "\n",
    "def printme(str):\n",
    "    'This prints a passed string into this function'\n",
    "    print(str)\n",
    "    return;\n",
    "\n",
    "printme('Hello World')"
   ]
  },
  {
   "cell_type": "code",
   "execution_count": 14,
   "id": "55329f7a",
   "metadata": {},
   "outputs": [
    {
     "name": "stdout",
     "output_type": "stream",
     "text": [
      "Hello World\n"
     ]
    }
   ],
   "source": [
    "#KEYWORD ARGUMENT\n",
    "\n",
    "def printme(str):\n",
    "    'This prints a passed string into this function'\n",
    "    print(str)\n",
    "    return\n",
    "printme(str='Hello World')"
   ]
  },
  {
   "cell_type": "code",
   "execution_count": 15,
   "id": "845a1be5",
   "metadata": {},
   "outputs": [
    {
     "name": "stdout",
     "output_type": "stream",
     "text": [
      "Name ben\n",
      "Age 4\n"
     ]
    }
   ],
   "source": [
    "def printinfo(name,age):\n",
    "    print('Name',name)\n",
    "    print('Age',age)\n",
    "    return\n",
    "\n",
    "printinfo(age=4,name='Ben')"
   ]
  },
  {
   "cell_type": "code",
   "execution_count": 18,
   "id": "1fa0e6d5",
   "metadata": {},
   "outputs": [
    {
     "name": "stdout",
     "output_type": "stream",
     "text": [
      "Name Ben\n",
      "Age 4\n"
     ]
    }
   ],
   "source": [
    "printinfo('Ben',4)"
   ]
  },
  {
   "cell_type": "code",
   "execution_count": 20,
   "id": "df184696",
   "metadata": {},
   "outputs": [
    {
     "name": "stdout",
     "output_type": "stream",
     "text": [
      "Name ben\n",
      "Age 50\n",
      "Name andy\n",
      "Age 26\n"
     ]
    }
   ],
   "source": [
    "#DEFAULT ARGUMENT\n",
    "\n",
    "def printinfo(name,age=26):\n",
    "    print('Name', name)\n",
    "    print('Age', age)\n",
    "    return\n",
    "\n",
    "printinfo('ben', 50)\n",
    "printinfo('andy')\n",
    "\n"
   ]
  },
  {
   "cell_type": "code",
   "execution_count": 23,
   "id": "bfc7d228",
   "metadata": {},
   "outputs": [
    {
     "name": "stdout",
     "output_type": "stream",
     "text": [
      "Output is: \n",
      "10\n",
      "Output is: \n",
      "1\n",
      "2\n",
      "3\n",
      "a\n"
     ]
    }
   ],
   "source": [
    "#VARIABLE LENGTH ARGUMENT \n",
    "#use (*) for nonkeyword variable\n",
    "\n",
    "def printinfo(arg1,*vartuple):\n",
    "    'This prints a variable passed arguments'\n",
    "    print('Output is: ')\n",
    "    print(arg1)\n",
    "    \n",
    "    for var in vartuple:\n",
    "        print(var)\n",
    "    return\n",
    "\n",
    "printinfo(10)\n",
    "printinfo(1,2,3,'a')\n"
   ]
  },
  {
   "cell_type": "code",
   "execution_count": 33,
   "id": "cc1a2fb2",
   "metadata": {},
   "outputs": [
    {
     "name": "stdout",
     "output_type": "stream",
     "text": [
      "Value of total:  30\n",
      "Value of total:  70\n"
     ]
    }
   ],
   "source": [
    "#LAMBDA & RETURN FUNCTION\n",
    "sum=lambda arg1,arg2: arg1+arg2\n",
    "\n",
    "def sum(arg1,arg2):\n",
    "    total=arg1+arg2\n",
    "    return total\n",
    "\n",
    "print('Value of total: ',sum(10,20))\n",
    "print('Value of total: ',sum(30,40))"
   ]
  },
  {
   "cell_type": "code",
   "execution_count": 35,
   "id": "dc06e214",
   "metadata": {},
   "outputs": [
    {
     "name": "stdout",
     "output_type": "stream",
     "text": [
      "Inside the function:  30\n",
      "Outside the function:  40\n"
     ]
    }
   ],
   "source": [
    "def sum(arg1,arg2):\n",
    "    total=arg1+arg2\n",
    "    total2=total+arg1\n",
    "    print('Inside the function: ', total)\n",
    "    \n",
    "    return total2\n",
    "\n",
    "total=sum(10,20)\n",
    "print('Outside the function: ', total)\n",
    "    "
   ]
  },
  {
   "cell_type": "code",
   "execution_count": 49,
   "id": "2398472a",
   "metadata": {},
   "outputs": [
    {
     "ename": "IndentationError",
     "evalue": "expected an indented block (90140480.py, line 12)",
     "output_type": "error",
     "traceback": [
      "\u001b[0;36m  Input \u001b[0;32mIn [49]\u001b[0;36m\u001b[0m\n\u001b[0;31m    total=sum(10,20)\u001b[0m\n\u001b[0m    ^\u001b[0m\n\u001b[0;31mIndentationError\u001b[0m\u001b[0;31m:\u001b[0m expected an indented block\n"
     ]
    }
   ],
   "source": [
    "#GLOBAL VS LOCAL VARIABLE\n",
    "\n",
    "total=0;\n",
    "\n",
    "def sum(arg1,arg2):\n",
    "    total=arg1+arg2;\n",
    "    print('Inside the function local total: ', total)\n",
    "    return total;\n",
    "\n",
    "def min():\n",
    "\n",
    "total=sum(10,20)\n",
    "\n",
    "print('Outside the function global total: ', total)"
   ]
  },
  {
   "cell_type": "code",
   "execution_count": 53,
   "id": "64db01ce",
   "metadata": {},
   "outputs": [
    {
     "data": {
      "text/plain": [
       "50"
      ]
     },
     "execution_count": 53,
     "metadata": {},
     "output_type": "execute_result"
    }
   ],
   "source": [
    "jumlah_kucing=20\n",
    "\n",
    "def jumlah_hewan():\n",
    "    jumlah_anjing=30\n",
    "    return jumlah_kucing + jumlah_anjing\n",
    "\n",
    "def jumlah_kelinci():\n",
    "    return jumlah_kucing+jumlah_kucing\n",
    "\n",
    "jumlah_hewan()"
   ]
  },
  {
   "cell_type": "code",
   "execution_count": 54,
   "id": "fc8992ec",
   "metadata": {},
   "outputs": [
    {
     "data": {
      "text/plain": [
       "40"
      ]
     },
     "execution_count": 54,
     "metadata": {},
     "output_type": "execute_result"
    }
   ],
   "source": [
    "jumlah_kelinci()"
   ]
  },
  {
   "cell_type": "code",
   "execution_count": null,
   "id": "387b4bf9",
   "metadata": {},
   "outputs": [],
   "source": []
  }
 ],
 "metadata": {
  "kernelspec": {
   "display_name": "Python 3 (ipykernel)",
   "language": "python",
   "name": "python3"
  },
  "language_info": {
   "codemirror_mode": {
    "name": "ipython",
    "version": 3
   },
   "file_extension": ".py",
   "mimetype": "text/x-python",
   "name": "python",
   "nbconvert_exporter": "python",
   "pygments_lexer": "ipython3",
   "version": "3.9.12"
  }
 },
 "nbformat": 4,
 "nbformat_minor": 5
}
